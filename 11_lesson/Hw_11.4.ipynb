{
 "cells":[
  {
   "cell_type":"code",
   "source":[
    "#f(x) = -12x^4*sin(cos(x)) - 18x^3+5x^2 + 10x - 30\n",
    "\n",
    " #Построить график\n",
    "\n",
    "from sympy import *\n",
    "# from sympy.abc import x, y, f, g\n",
    "#from sympy import Symbol, sin, cos\n",
    "\n",
    "from sympy.plotting import plot\n",
    "\n",
    "init_printing()\n",
    "\n",
    "x = Symbol('x')\n",
    "f = -12 * x ** 4 * sin (cos (x)) - 18 * x ** 3 + 5 * x**2 +10 * x -30\n",
    "a = plot(f, (x, -7.5, 5))"
   ],
   "execution_count":39,
   "outputs":[
    {
     "data":{
      "image\/png":"[encoded data removed]"
     },
     "metadata":{
      "image\/png":{
       
      }
     },
     "output_type":"display_data"
    }
   ],
   "metadata":{
    "datalore":{
     "node_id":"mmLcrxZV7tLN4Z5zsttfkD",
     "type":"CODE",
     "hide_input_from_viewers":false,
     "hide_output_from_viewers":false
    }
   }
  },
  {
   "cell_type":"code",
   "source":[
    "#Определить корни\n",
    "solveset(f, x)"
   ],
   "execution_count":40,
   "outputs":[
    {
     "data":{
      "text\/latex":[
       "$\\displaystyle \\left\\{x\\; \\middle|\\; x \\in \\mathbb{C} \\wedge - 12 x^{4} \\sin{\\left(\\cos{\\left(x \\right)} \\right)} - 18 x^{3} + 5 x^{2} + 10 x - 30 = 0 \\right\\}$"
      ]
     },
     "metadata":{
      
     },
     "output_type":"display_data"
    }
   ],
   "metadata":{
    "datalore":{
     "node_id":"892uYIMP1lJQCmAw1biPDD",
     "type":"CODE",
     "hide_input_from_viewers":false,
     "hide_output_from_viewers":false
    }
   }
  },
  {
   "cell_type":"code",
   "source":[
    "#Найти интервалы\n",
    "b = [-oo, oo]\n",
    "b[1:1] = solveset(diff(f), x)\n",
    "b"
   ],
   "execution_count":43,
   "outputs":[
    {
     "ename":"TypeError",
     "evalue":"TypeError: can only assign an iterable",
     "traceback":[
      "\u001b[0;31m---------------------------------------------------------------------------",
      "Traceback (most recent call last)",
      "    at line 3 in <module>",
      "TypeError: can only assign an iterable"
     ],
     "output_type":"error"
    }
   ],
   "metadata":{
    "datalore":{
     "node_id":"sovkfdJ4wshcYqgyI1e87o",
     "type":"CODE",
     "hide_input_from_viewers":false,
     "hide_output_from_viewers":false
    }
   }
  },
  {
   "cell_type":"code",
   "source":[
    "# Найти интервалы, на которых функция возрастает\n",
    "# Найти интервалы, на которых функция убывает\n",
    "\n",
    "c = []\n",
    "d = []\n",
    "for i in range(1, len(b)):\n",
    "    boo = is_increasing(f, Interval.open(b[i-1], b[i]))\n",
    "    if boo:\n",
    "        c.append(f\"{b[i-1]} {b[i]}\")\n",
    "    else:\n",
    "        d.append(f\"{b[i-1]} {b[i]}\")\n",
    "print('Возрастает в диапазоне', c)\n",
    "print('Убывает в диапазоне', d)"
   ],
   "execution_count":44,
   "outputs":[
    {
     "name":"stdout",
     "text":[
      "Возрастает в диапазоне []\n",
      "Убывает в диапазоне ['-oo oo']\n"
     ],
     "output_type":"stream"
    }
   ],
   "metadata":{
    "datalore":{
     "node_id":"J6FPzjUENYVWy52RFul4yV",
     "type":"CODE",
     "hide_input_from_viewers":false,
     "hide_output_from_viewers":false
    }
   }
  },
  {
   "cell_type":"code",
   "source":[
    "#  Вычислить вершину\n",
    "#Экстремумы функции\n",
    "e = solveset(diff(f), x)\n",
    "for i in e:\n",
    "    g = f.subs(x, i)\n",
    "    if g < 0:\n",
    "        print(f'Нижний экстремум: x:{i} y:{g}')\n",
    "    elif g > 0:\n",
    "        print(f'Верхний экстремум: x:{i} y:{g}')\n",
    "a = plot(f, (x, -7, 4))"
   ],
   "execution_count":45,
   "outputs":[
    {
     "ename":"TypeError",
     "evalue":"TypeError: 'ConditionSet' object is not iterable",
     "traceback":[
      "\u001b[0;31m---------------------------------------------------------------------------",
      "Traceback (most recent call last)",
      "    at line 4 in <module>",
      "TypeError: 'ConditionSet' object is not iterable"
     ],
     "output_type":"error"
    }
   ],
   "metadata":{
    "datalore":{
     "node_id":"hQdGjoUCSj2kNN0ZMVIlce",
     "type":"CODE",
     "hide_input_from_viewers":false,
     "hide_output_from_viewers":false
    }
   }
  },
  {
   "cell_type":"code",
   "source":[
    "# Определить промежутки, на котором f > 0\n",
    "# Определить промежутки, на котором f < 0\n",
    "#Знакопостоянства функции\n",
    "m = [-oo, oo]\n",
    "\n",
    "incr_list = []\n",
    "decr_list = []\n",
    "m[1:1] = solveset(f, x)\n",
    "for i in range(1, len(m)):\n",
    "    boo = is_increasing(f, Interval.open(m[i-1], m[i]))\n",
    "    if boo:\n",
    "        incr_list.append(f'{m[i-1]}, {m[i]}')\n",
    "    else:\n",
    "        decr_list.append(f'{m[i-1]}, {m[i]}')\n",
    "\n",
    "# print(f'{0}{1}{2}{3}{0}', *h)\n",
    "\n",
    "print(\"f > 0:\", *incr_list, sep=\"\\n\")\n",
    "print(\"f < 0:\", *decr_list, sep=\"\\n\")"
   ],
   "execution_count":46,
   "outputs":[
    {
     "ename":"TypeError",
     "evalue":"TypeError: can only assign an iterable",
     "traceback":[
      "\u001b[0;31m---------------------------------------------------------------------------",
      "Traceback (most recent call last)",
      "    at line 8 in <module>",
      "TypeError: can only assign an iterable"
     ],
     "output_type":"error"
    }
   ],
   "metadata":{
    "datalore":{
     "node_id":"CdoddslzSiH7oi8GxXuqN9",
     "type":"CODE",
     "hide_input_from_viewers":false,
     "hide_output_from_viewers":false
    }
   }
  }
 ],
 "metadata":{
  "kernelspec":{
   "display_name":"Python",
   "language":"python",
   "name":"python"
  },
  "datalore":{
   "version":1,
   "computation_mode":"JUPYTER",
   "package_manager":"pip",
   "base_environment":"default",
   "packages":[
    
   ]
  }
 },
 "nbformat":4,
 "nbformat_minor":4
}