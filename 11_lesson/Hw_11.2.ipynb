{
 "cells": [
  {
   "cell_type": "code",
   "execution_count": null,
   "metadata": {
    "datalore": {
     "hide_input_from_viewers": false,
     "hide_output_from_viewers": false,
     "node_id": "TupIu1XXN2O65fpFpGn6jT",
     "type": "CODE"
    }
   },
   "outputs": [
    {
     "ename": "",
     "evalue": "",
     "output_type": "error",
     "traceback": [
      "\u001b[1;31mДля выполнения ячеек с \"c:\\Users\\AndrosovIY\\AppData\\Local\\Microsoft\\WindowsApps\\python3.10.exe\" требуется пакет ipykernel.\n",
      "\u001b[1;31mRun the following command to install 'ipykernel' into the Python environment. \n",
      "\u001b[1;31mCommand: 'c:/Users/AndrosovIY/AppData/Local/Microsoft/WindowsApps/python3.10.exe -m pip install ipykernel -U --user --force-reinstall'"
     ]
    }
   ],
   "source": [
    "#Исследуйте функции:\n",
    "#f = 2 * x ** 3 + 2 * x ** 2 - 18 * x -18\n",
    "\n",
    "from sympy import *\n",
    "# from sympy.abc import x, y, f, g\n",
    "# from sympy import Symbol, sin, cos\n",
    "\n",
    "from sympy.plotting import plot\n",
    "\n",
    "init_printing()\n",
    "\n",
    "x = Symbol('x')\n",
    "f = 2 * x ** 3 + 2 * x ** 2 - 18 * x -18\n",
    "a = plot(f, (x, -0.8, 5))"
   ]
  },
  {
   "cell_type": "code",
   "execution_count": null,
   "metadata": {
    "datalore": {
     "hide_input_from_viewers": false,
     "hide_output_from_viewers": false,
     "node_id": "F4JUU4w57n2zJQkOQgWQ4B",
     "type": "CODE"
    }
   },
   "outputs": [
    {
     "ename": "",
     "evalue": "",
     "output_type": "error",
     "traceback": [
      "\u001b[1;31mДля выполнения ячеек с \"c:\\Users\\AndrosovIY\\AppData\\Local\\Microsoft\\WindowsApps\\python3.10.exe\" требуется пакет ipykernel.\n",
      "\u001b[1;31mRun the following command to install 'ipykernel' into the Python environment. \n",
      "\u001b[1;31mCommand: 'c:/Users/AndrosovIY/AppData/Local/Microsoft/WindowsApps/python3.10.exe -m pip install ipykernel -U --user --force-reinstall'"
     ]
    }
   ],
   "source": [
    "# Нули функции\n",
    "solveset(f, x)"
   ]
  },
  {
   "cell_type": "code",
   "execution_count": null,
   "metadata": {
    "datalore": {
     "hide_input_from_viewers": false,
     "hide_output_from_viewers": false,
     "node_id": "LJUZBfzvdZqyl3kfQTmgye",
     "type": "CODE"
    }
   },
   "outputs": [
    {
     "ename": "",
     "evalue": "",
     "output_type": "error",
     "traceback": [
      "\u001b[1;31mДля выполнения ячеек с \"c:\\Users\\AndrosovIY\\AppData\\Local\\Microsoft\\WindowsApps\\python3.10.exe\" требуется пакет ipykernel.\n",
      "\u001b[1;31mRun the following command to install 'ipykernel' into the Python environment. \n",
      "\u001b[1;31mCommand: 'c:/Users/AndrosovIY/AppData/Local/Microsoft/WindowsApps/python3.10.exe -m pip install ipykernel -U --user --force-reinstall'"
     ]
    }
   ],
   "source": [
    "#Найти интервалы\n",
    "b = [-oo, oo]\n",
    "b[1:1] = solve(diff(f), x)\n",
    "b"
   ]
  },
  {
   "cell_type": "code",
   "execution_count": null,
   "metadata": {
    "datalore": {
     "hide_input_from_viewers": false,
     "hide_output_from_viewers": false,
     "node_id": "RdO9FfiCc30NWNDO0e9GNw",
     "type": "CODE"
    }
   },
   "outputs": [
    {
     "ename": "",
     "evalue": "",
     "output_type": "error",
     "traceback": [
      "\u001b[1;31mДля выполнения ячеек с \"c:\\Users\\AndrosovIY\\AppData\\Local\\Microsoft\\WindowsApps\\python3.10.exe\" требуется пакет ipykernel.\n",
      "\u001b[1;31mRun the following command to install 'ipykernel' into the Python environment. \n",
      "\u001b[1;31mCommand: 'c:/Users/AndrosovIY/AppData/Local/Microsoft/WindowsApps/python3.10.exe -m pip install ipykernel -U --user --force-reinstall'"
     ]
    }
   ],
   "source": [
    "# Найти интервалы, на которых функция возрастает\n",
    "# Найти интервалы, на которых функция убывает\n",
    "c = []\n",
    "d = []\n",
    "for i in range(1, len(b)):\n",
    "    boo = is_increasing(f, Interval.open(b[i-1], b[i]))\n",
    "    if boo:\n",
    "        c.append(f\"{b[i-1]} {b[i]}\")\n",
    "    else:\n",
    "        d.append(f\"{b[i-1]} {b[i]}\")\n",
    "print('Возрастает в диапазоне', c)\n",
    "print('Убывает в диапазоне', d)"
   ]
  },
  {
   "cell_type": "code",
   "execution_count": null,
   "metadata": {
    "datalore": {
     "hide_input_from_viewers": false,
     "hide_output_from_viewers": false,
     "node_id": "zgp8elzW7s2kLdjy8luHWn",
     "type": "CODE"
    }
   },
   "outputs": [
    {
     "ename": "",
     "evalue": "",
     "output_type": "error",
     "traceback": [
      "\u001b[1;31mДля выполнения ячеек с \"c:\\Users\\AndrosovIY\\AppData\\Local\\Microsoft\\WindowsApps\\python3.10.exe\" требуется пакет ipykernel.\n",
      "\u001b[1;31mRun the following command to install 'ipykernel' into the Python environment. \n",
      "\u001b[1;31mCommand: 'c:/Users/AndrosovIY/AppData/Local/Microsoft/WindowsApps/python3.10.exe -m pip install ipykernel -U --user --force-reinstall'"
     ]
    }
   ],
   "source": [
    "# 5. Вычислить вершину\n",
    "#Экстремумы функции\n",
    "e = solve(diff(f), x)\n",
    "for i in e:\n",
    "    g = f.subs(x, i)\n",
    "    if g < 0:\n",
    "        print(f'Нижний экстремум: x:{i} y:{g}')\n",
    "    elif g > 0:\n",
    "        print(f'Верхний экстремум: x:{i} y:{g}')\n",
    "a = plot(f, (x, -1.5, 1.5))"
   ]
  },
  {
   "cell_type": "code",
   "execution_count": null,
   "metadata": {
    "datalore": {
     "hide_input_from_viewers": false,
     "hide_output_from_viewers": false,
     "node_id": "RGP1qnIIoZATo6OVXpDCGA",
     "type": "CODE"
    }
   },
   "outputs": [
    {
     "ename": "",
     "evalue": "",
     "output_type": "error",
     "traceback": [
      "\u001b[1;31mДля выполнения ячеек с \"c:\\Users\\AndrosovIY\\AppData\\Local\\Microsoft\\WindowsApps\\python3.10.exe\" требуется пакет ipykernel.\n",
      "\u001b[1;31mRun the following command to install 'ipykernel' into the Python environment. \n",
      "\u001b[1;31mCommand: 'c:/Users/AndrosovIY/AppData/Local/Microsoft/WindowsApps/python3.10.exe -m pip install ipykernel -U --user --force-reinstall'"
     ]
    }
   ],
   "source": [
    "#6. Определить промежутки, на котором f > 0\n",
    "#7. Определить промежутки, на котором f < 0\n",
    "#Знакопостоянства функции\n",
    "m = [-oo, oo]\n",
    "\n",
    "incr_list = []\n",
    "decr_list = []\n",
    "m[1:1] = solve(f, x)\n",
    "for i in range(1, len(m)):\n",
    "    boo = is_increasing(f, Interval.open(m[i-1], m[i]))\n",
    "    if boo:\n",
    "        incr_list.append(f'{m[i-1]}, {m[i]}')\n",
    "    else:\n",
    "        decr_list.append(f'{m[i-1]}, {m[i]}')\n",
    "\n",
    "# print(f'{0}{1}{2}{3}{0}', *h)\n",
    "\n",
    "print(\"f > 0:\", *incr_list, sep=\"\\n\")\n",
    "print(\"f < 0:\", *decr_list, sep=\"\\n\")"
   ]
  }
 ],
 "metadata": {
  "datalore": {
   "base_environment": "default",
   "computation_mode": "JUPYTER",
   "package_manager": "pip",
   "packages": [],
   "version": 1
  },
  "kernelspec": {
   "display_name": "Python 3",
   "language": "python",
   "name": "python3"
  },
  "language_info": {
   "name": "python",
   "version": "3.10.10"
  },
  "vscode": {
   "interpreter": {
    "hash": "b42d1eafa9652d4722c375b060909d79576f7483df3e2b85f3075878ba9ae2bb"
   }
  }
 },
 "nbformat": 4,
 "nbformat_minor": 4
}
